{
 "cells": [
  {
   "cell_type": "markdown",
   "id": "8e5b4969",
   "metadata": {},
   "source": [
    "# Project # 3 Time Series Analysis and Forecasting customer_segmentation "
   ]
  },
  {
   "cell_type": "code",
   "execution_count": 3,
   "id": "29d515a7",
   "metadata": {},
   "outputs": [
    {
     "data": {
      "text/html": [
       "<div>\n",
       "<style scoped>\n",
       "    .dataframe tbody tr th:only-of-type {\n",
       "        vertical-align: middle;\n",
       "    }\n",
       "\n",
       "    .dataframe tbody tr th {\n",
       "        vertical-align: top;\n",
       "    }\n",
       "\n",
       "    .dataframe thead th {\n",
       "        text-align: right;\n",
       "    }\n",
       "</style>\n",
       "<table border=\"1\" class=\"dataframe\">\n",
       "  <thead>\n",
       "    <tr style=\"text-align: right;\">\n",
       "      <th></th>\n",
       "      <th>ID</th>\n",
       "      <th>Gender</th>\n",
       "      <th>Ever_Married</th>\n",
       "      <th>Age</th>\n",
       "      <th>Graduated</th>\n",
       "      <th>Profession</th>\n",
       "      <th>Work_Experience</th>\n",
       "      <th>Spending_Score</th>\n",
       "      <th>Family_Size</th>\n",
       "      <th>Var_1</th>\n",
       "      <th>Segmentation</th>\n",
       "    </tr>\n",
       "  </thead>\n",
       "  <tbody>\n",
       "    <tr>\n",
       "      <th>0</th>\n",
       "      <td>462809</td>\n",
       "      <td>Male</td>\n",
       "      <td>No</td>\n",
       "      <td>22</td>\n",
       "      <td>No</td>\n",
       "      <td>Healthcare</td>\n",
       "      <td>1.0</td>\n",
       "      <td>Low</td>\n",
       "      <td>4.0</td>\n",
       "      <td>Cat_4</td>\n",
       "      <td>D</td>\n",
       "    </tr>\n",
       "    <tr>\n",
       "      <th>1</th>\n",
       "      <td>462643</td>\n",
       "      <td>Female</td>\n",
       "      <td>Yes</td>\n",
       "      <td>38</td>\n",
       "      <td>Yes</td>\n",
       "      <td>Engineer</td>\n",
       "      <td>NaN</td>\n",
       "      <td>Average</td>\n",
       "      <td>3.0</td>\n",
       "      <td>Cat_4</td>\n",
       "      <td>A</td>\n",
       "    </tr>\n",
       "    <tr>\n",
       "      <th>2</th>\n",
       "      <td>466315</td>\n",
       "      <td>Female</td>\n",
       "      <td>Yes</td>\n",
       "      <td>67</td>\n",
       "      <td>Yes</td>\n",
       "      <td>Engineer</td>\n",
       "      <td>1.0</td>\n",
       "      <td>Low</td>\n",
       "      <td>1.0</td>\n",
       "      <td>Cat_6</td>\n",
       "      <td>B</td>\n",
       "    </tr>\n",
       "    <tr>\n",
       "      <th>3</th>\n",
       "      <td>461735</td>\n",
       "      <td>Male</td>\n",
       "      <td>Yes</td>\n",
       "      <td>67</td>\n",
       "      <td>Yes</td>\n",
       "      <td>Lawyer</td>\n",
       "      <td>0.0</td>\n",
       "      <td>High</td>\n",
       "      <td>2.0</td>\n",
       "      <td>Cat_6</td>\n",
       "      <td>B</td>\n",
       "    </tr>\n",
       "    <tr>\n",
       "      <th>4</th>\n",
       "      <td>462669</td>\n",
       "      <td>Female</td>\n",
       "      <td>Yes</td>\n",
       "      <td>40</td>\n",
       "      <td>Yes</td>\n",
       "      <td>Entertainment</td>\n",
       "      <td>NaN</td>\n",
       "      <td>High</td>\n",
       "      <td>6.0</td>\n",
       "      <td>Cat_6</td>\n",
       "      <td>A</td>\n",
       "    </tr>\n",
       "  </tbody>\n",
       "</table>\n",
       "</div>"
      ],
      "text/plain": [
       "       ID  Gender Ever_Married  Age Graduated     Profession  Work_Experience  \\\n",
       "0  462809    Male           No   22        No     Healthcare              1.0   \n",
       "1  462643  Female          Yes   38       Yes       Engineer              NaN   \n",
       "2  466315  Female          Yes   67       Yes       Engineer              1.0   \n",
       "3  461735    Male          Yes   67       Yes         Lawyer              0.0   \n",
       "4  462669  Female          Yes   40       Yes  Entertainment              NaN   \n",
       "\n",
       "  Spending_Score  Family_Size  Var_1 Segmentation  \n",
       "0            Low          4.0  Cat_4            D  \n",
       "1        Average          3.0  Cat_4            A  \n",
       "2            Low          1.0  Cat_6            B  \n",
       "3           High          2.0  Cat_6            B  \n",
       "4           High          6.0  Cat_6            A  "
      ]
     },
     "execution_count": 3,
     "metadata": {},
     "output_type": "execute_result"
    }
   ],
   "source": [
    "# Import necessary libraries\n",
    "import pandas as pd\n",
    "import numpy as np\n",
    "import matplotlib.pyplot as plt\n",
    "import seaborn as sns\n",
    "import statsmodels.api as sm\n",
    "from sklearn.metrics import mean_squared_error, mean_absolute_percentage_error\n",
    "from statsmodels.tsa.stattools import acf, pacf\n",
    "from statsmodels.tsa.seasonal import seasonal_decompose\n",
    "from statsmodels.tsa.arima.model import ARIMA\n",
    "from statsmodels.tsa.statespace.sarimax import SARIMAX\n",
    "from statsmodels.tsa.holtwinters import ExponentialSmoothing\n",
    "from sklearn.model_selection import TimeSeriesSplit\n",
    "\n",
    "# Load the customer_segments.csv dataset into a pandas dataframe\n",
    "df = pd.read_csv(\"C:\\\\Users\\\\n\\\\Downloads\\\\customer_segments.csv\")\n",
    "df.head()"
   ]
  },
  {
   "cell_type": "code",
   "execution_count": 4,
   "id": "77d5cd84",
   "metadata": {},
   "outputs": [
    {
     "data": {
      "text/html": [
       "<div>\n",
       "<style scoped>\n",
       "    .dataframe tbody tr th:only-of-type {\n",
       "        vertical-align: middle;\n",
       "    }\n",
       "\n",
       "    .dataframe tbody tr th {\n",
       "        vertical-align: top;\n",
       "    }\n",
       "\n",
       "    .dataframe thead th {\n",
       "        text-align: right;\n",
       "    }\n",
       "</style>\n",
       "<table border=\"1\" class=\"dataframe\">\n",
       "  <thead>\n",
       "    <tr style=\"text-align: right;\">\n",
       "      <th></th>\n",
       "      <th>ID</th>\n",
       "      <th>Gender</th>\n",
       "      <th>Ever_Married</th>\n",
       "      <th>Age</th>\n",
       "      <th>Graduated</th>\n",
       "      <th>Profession</th>\n",
       "      <th>Work_Experience</th>\n",
       "      <th>Spending_Score</th>\n",
       "      <th>Family_Size</th>\n",
       "      <th>Var_1</th>\n",
       "      <th>Segmentation</th>\n",
       "    </tr>\n",
       "  </thead>\n",
       "  <tbody>\n",
       "    <tr>\n",
       "      <th>8063</th>\n",
       "      <td>464018</td>\n",
       "      <td>Male</td>\n",
       "      <td>No</td>\n",
       "      <td>22</td>\n",
       "      <td>No</td>\n",
       "      <td>NaN</td>\n",
       "      <td>0.0</td>\n",
       "      <td>Low</td>\n",
       "      <td>7.0</td>\n",
       "      <td>Cat_1</td>\n",
       "      <td>D</td>\n",
       "    </tr>\n",
       "    <tr>\n",
       "      <th>8064</th>\n",
       "      <td>464685</td>\n",
       "      <td>Male</td>\n",
       "      <td>No</td>\n",
       "      <td>35</td>\n",
       "      <td>No</td>\n",
       "      <td>Executive</td>\n",
       "      <td>3.0</td>\n",
       "      <td>Low</td>\n",
       "      <td>4.0</td>\n",
       "      <td>Cat_4</td>\n",
       "      <td>D</td>\n",
       "    </tr>\n",
       "    <tr>\n",
       "      <th>8065</th>\n",
       "      <td>465406</td>\n",
       "      <td>Female</td>\n",
       "      <td>No</td>\n",
       "      <td>33</td>\n",
       "      <td>Yes</td>\n",
       "      <td>Healthcare</td>\n",
       "      <td>1.0</td>\n",
       "      <td>Low</td>\n",
       "      <td>1.0</td>\n",
       "      <td>Cat_6</td>\n",
       "      <td>D</td>\n",
       "    </tr>\n",
       "    <tr>\n",
       "      <th>8066</th>\n",
       "      <td>467299</td>\n",
       "      <td>Female</td>\n",
       "      <td>No</td>\n",
       "      <td>27</td>\n",
       "      <td>Yes</td>\n",
       "      <td>Healthcare</td>\n",
       "      <td>1.0</td>\n",
       "      <td>Low</td>\n",
       "      <td>4.0</td>\n",
       "      <td>Cat_6</td>\n",
       "      <td>B</td>\n",
       "    </tr>\n",
       "    <tr>\n",
       "      <th>8067</th>\n",
       "      <td>461879</td>\n",
       "      <td>Male</td>\n",
       "      <td>Yes</td>\n",
       "      <td>37</td>\n",
       "      <td>Yes</td>\n",
       "      <td>Executive</td>\n",
       "      <td>0.0</td>\n",
       "      <td>Average</td>\n",
       "      <td>3.0</td>\n",
       "      <td>Cat_4</td>\n",
       "      <td>B</td>\n",
       "    </tr>\n",
       "  </tbody>\n",
       "</table>\n",
       "</div>"
      ],
      "text/plain": [
       "          ID  Gender Ever_Married  Age Graduated  Profession  Work_Experience  \\\n",
       "8063  464018    Male           No   22        No         NaN              0.0   \n",
       "8064  464685    Male           No   35        No   Executive              3.0   \n",
       "8065  465406  Female           No   33       Yes  Healthcare              1.0   \n",
       "8066  467299  Female           No   27       Yes  Healthcare              1.0   \n",
       "8067  461879    Male          Yes   37       Yes   Executive              0.0   \n",
       "\n",
       "     Spending_Score  Family_Size  Var_1 Segmentation  \n",
       "8063            Low          7.0  Cat_1            D  \n",
       "8064            Low          4.0  Cat_4            D  \n",
       "8065            Low          1.0  Cat_6            D  \n",
       "8066            Low          4.0  Cat_6            B  \n",
       "8067        Average          3.0  Cat_4            B  "
      ]
     },
     "execution_count": 4,
     "metadata": {},
     "output_type": "execute_result"
    }
   ],
   "source": [
    "df.tail()"
   ]
  },
  {
   "cell_type": "code",
   "execution_count": 5,
   "id": "64df309f",
   "metadata": {},
   "outputs": [
    {
     "name": "stdout",
     "output_type": "stream",
     "text": [
      "<class 'pandas.core.frame.DataFrame'>\n",
      "RangeIndex: 8068 entries, 0 to 8067\n",
      "Data columns (total 11 columns):\n",
      " #   Column           Non-Null Count  Dtype  \n",
      "---  ------           --------------  -----  \n",
      " 0   ID               8068 non-null   int64  \n",
      " 1   Gender           8068 non-null   object \n",
      " 2   Ever_Married     7928 non-null   object \n",
      " 3   Age              8068 non-null   int64  \n",
      " 4   Graduated        7990 non-null   object \n",
      " 5   Profession       7944 non-null   object \n",
      " 6   Work_Experience  7239 non-null   float64\n",
      " 7   Spending_Score   8068 non-null   object \n",
      " 8   Family_Size      7733 non-null   float64\n",
      " 9   Var_1            7992 non-null   object \n",
      " 10  Segmentation     8068 non-null   object \n",
      "dtypes: float64(2), int64(2), object(7)\n",
      "memory usage: 693.5+ KB\n"
     ]
    }
   ],
   "source": [
    "df.info()"
   ]
  },
  {
   "cell_type": "code",
   "execution_count": 7,
   "id": "d4a35fd8",
   "metadata": {},
   "outputs": [
    {
     "data": {
      "text/html": [
       "<div>\n",
       "<style scoped>\n",
       "    .dataframe tbody tr th:only-of-type {\n",
       "        vertical-align: middle;\n",
       "    }\n",
       "\n",
       "    .dataframe tbody tr th {\n",
       "        vertical-align: top;\n",
       "    }\n",
       "\n",
       "    .dataframe thead th {\n",
       "        text-align: right;\n",
       "    }\n",
       "</style>\n",
       "<table border=\"1\" class=\"dataframe\">\n",
       "  <thead>\n",
       "    <tr style=\"text-align: right;\">\n",
       "      <th></th>\n",
       "      <th>ID</th>\n",
       "      <th>Age</th>\n",
       "      <th>Work_Experience</th>\n",
       "      <th>Family_Size</th>\n",
       "    </tr>\n",
       "  </thead>\n",
       "  <tbody>\n",
       "    <tr>\n",
       "      <th>count</th>\n",
       "      <td>8068.000000</td>\n",
       "      <td>8068.000000</td>\n",
       "      <td>7239.000000</td>\n",
       "      <td>7733.000000</td>\n",
       "    </tr>\n",
       "    <tr>\n",
       "      <th>mean</th>\n",
       "      <td>463479.214551</td>\n",
       "      <td>43.466906</td>\n",
       "      <td>2.641663</td>\n",
       "      <td>2.850123</td>\n",
       "    </tr>\n",
       "    <tr>\n",
       "      <th>std</th>\n",
       "      <td>2595.381232</td>\n",
       "      <td>16.711696</td>\n",
       "      <td>3.406763</td>\n",
       "      <td>1.531413</td>\n",
       "    </tr>\n",
       "    <tr>\n",
       "      <th>min</th>\n",
       "      <td>458982.000000</td>\n",
       "      <td>18.000000</td>\n",
       "      <td>0.000000</td>\n",
       "      <td>1.000000</td>\n",
       "    </tr>\n",
       "    <tr>\n",
       "      <th>25%</th>\n",
       "      <td>461240.750000</td>\n",
       "      <td>30.000000</td>\n",
       "      <td>0.000000</td>\n",
       "      <td>2.000000</td>\n",
       "    </tr>\n",
       "    <tr>\n",
       "      <th>50%</th>\n",
       "      <td>463472.500000</td>\n",
       "      <td>40.000000</td>\n",
       "      <td>1.000000</td>\n",
       "      <td>3.000000</td>\n",
       "    </tr>\n",
       "    <tr>\n",
       "      <th>75%</th>\n",
       "      <td>465744.250000</td>\n",
       "      <td>53.000000</td>\n",
       "      <td>4.000000</td>\n",
       "      <td>4.000000</td>\n",
       "    </tr>\n",
       "    <tr>\n",
       "      <th>max</th>\n",
       "      <td>467974.000000</td>\n",
       "      <td>89.000000</td>\n",
       "      <td>14.000000</td>\n",
       "      <td>9.000000</td>\n",
       "    </tr>\n",
       "  </tbody>\n",
       "</table>\n",
       "</div>"
      ],
      "text/plain": [
       "                  ID          Age  Work_Experience  Family_Size\n",
       "count    8068.000000  8068.000000      7239.000000  7733.000000\n",
       "mean   463479.214551    43.466906         2.641663     2.850123\n",
       "std      2595.381232    16.711696         3.406763     1.531413\n",
       "min    458982.000000    18.000000         0.000000     1.000000\n",
       "25%    461240.750000    30.000000         0.000000     2.000000\n",
       "50%    463472.500000    40.000000         1.000000     3.000000\n",
       "75%    465744.250000    53.000000         4.000000     4.000000\n",
       "max    467974.000000    89.000000        14.000000     9.000000"
      ]
     },
     "execution_count": 7,
     "metadata": {},
     "output_type": "execute_result"
    }
   ],
   "source": [
    "df.describe()"
   ]
  },
  {
   "cell_type": "code",
   "execution_count": 22,
   "id": "b28ee7d2",
   "metadata": {},
   "outputs": [
    {
     "name": "stdout",
     "output_type": "stream",
     "text": [
      "Index(['Work_Experience', 'Family_Size', 'Gender_Female', 'Gender_Male',\n",
      "       'Ever_Married_No', 'Ever_Married_Yes', 'Graduated_No', 'Graduated_Yes',\n",
      "       'Profession_Artist', 'Profession_Doctor', 'Profession_Engineer',\n",
      "       'Profession_Entertainment', 'Profession_Executive',\n",
      "       'Profession_Healthcare', 'Profession_Homemaker', 'Profession_Lawyer',\n",
      "       'Profession_Marketing', 'Spending_Score_Average', 'Spending_Score_High',\n",
      "       'Spending_Score_Low', 'Segmentation_A', 'Segmentation_B',\n",
      "       'Segmentation_C', 'Segmentation_D'],\n",
      "      dtype='object')\n"
     ]
    }
   ],
   "source": [
    "print(df.columns)"
   ]
  },
  {
   "cell_type": "markdown",
   "id": "157aeee9",
   "metadata": {},
   "source": [
    "#  Clean and preprocess the dataset\n"
   ]
  },
  {
   "cell_type": "code",
   "execution_count": 9,
   "id": "592823b3",
   "metadata": {},
   "outputs": [
    {
     "name": "stdout",
     "output_type": "stream",
     "text": [
      "Missing values in the dataset:\n",
      " Gender               0\n",
      "Ever_Married       140\n",
      "Age                  0\n",
      "Graduated           78\n",
      "Profession         124\n",
      "Work_Experience    829\n",
      "Spending_Score       0\n",
      "Family_Size        335\n",
      "Segmentation         0\n",
      "dtype: int64\n",
      "Cleaned dataset:\n",
      "             Work_Experience  Family_Size  Gender_Female  Gender_Male  \\\n",
      "Age                                                                    \n",
      "1970-01-04         2.629652     2.841768       0.448943     0.551057   \n",
      "\n",
      "            Ever_Married_No  Ever_Married_Yes  Graduated_No  Graduated_Yes  \\\n",
      "Age                                                                          \n",
      "1970-01-04         0.408306          0.591694      0.363203       0.636797   \n",
      "\n",
      "            Profession_Artist  Profession_Doctor  ...  Profession_Homemaker  \\\n",
      "Age                                               ...                         \n",
      "1970-01-04           0.329116           0.088419  ...              0.026496   \n",
      "\n",
      "            Profession_Lawyer  Profession_Marketing  Spending_Score_Average  \\\n",
      "Age                                                                           \n",
      "1970-01-04           0.074873              0.034683                0.249628   \n",
      "\n",
      "            Spending_Score_High  Spending_Score_Low  Segmentation_A  \\\n",
      "Age                                                                   \n",
      "1970-01-04              0.15064            0.599732        0.242334   \n",
      "\n",
      "            Segmentation_B  Segmentation_C  Segmentation_D  \n",
      "Age                                                         \n",
      "1970-01-04        0.235636        0.258261        0.263769  \n",
      "\n",
      "[1 rows x 24 columns]\n"
     ]
    }
   ],
   "source": [
    "import pandas as pd\n",
    "import numpy as np\n",
    "\n",
    "# Remove unnecessary columns\n",
    "df.drop([\"ID\", \"Var_1\"], axis=1, inplace=True)\n",
    "\n",
    "# Check for missing values\n",
    "print(\"Missing values in the dataset:\\n\", df.isnull().sum())\n",
    "\n",
    "# Drop rows with missing values\n",
    "df.dropna(inplace=True)\n",
    "\n",
    "# Convert categorical variables to numeric using one-hot encoding\n",
    "df = pd.get_dummies(df)\n",
    "\n",
    "# Convert the \"Age\" column to datetime format\n",
    "df[\"Age\"] = pd.to_datetime(df[\"Age\"])\n",
    "\n",
    "# Set the \"Age\" column as the index\n",
    "df.set_index(\"Age\", inplace=True)\n",
    "\n",
    "# Resample the data by week and use the average value for each week\n",
    "df = df.resample(\"W\").mean()\n",
    "\n",
    "# Fill any remaining missing values with the previous week's value\n",
    "df.fillna(method=\"ffill\", inplace=True)\n",
    "\n",
    "# Print the cleaned dataset\n",
    "print(\"Cleaned dataset:\\n\", df.head())\n"
   ]
  },
  {
   "cell_type": "markdown",
   "id": "63ff8acf",
   "metadata": {},
   "source": [
    "# EDA and Visualization"
   ]
  },
  {
   "cell_type": "code",
   "execution_count": 29,
   "id": "60bd9caf",
   "metadata": {},
   "outputs": [],
   "source": [
    "import matplotlib.pyplot as plt\n",
    "from sklearn.preprocessing import OneHotEncoder\n",
    "import matplotlib.pyplot as plt\n",
    "import seaborn as sns\n",
    "from sklearn.model_selection import train_test_split\n",
    "from sklearn.metrics import classification_report"
   ]
  },
  {
   "cell_type": "code",
   "execution_count": 37,
   "id": "7790c41e",
   "metadata": {},
   "outputs": [
    {
     "name": "stderr",
     "output_type": "stream",
     "text": [
      "C:\\Users\\n\\anaconda3\\lib\\site-packages\\seaborn\\_decorators.py:36: FutureWarning: Pass the following variable as a keyword arg: x. From version 0.12, the only valid positional argument will be `data`, and passing other arguments without an explicit keyword will result in an error or misinterpretation.\n",
      "  warnings.warn(\n"
     ]
    },
    {
     "data": {
      "image/png": "[encoded data removed]",
      "text/plain": [
       "<Figure size 432x288 with 1 Axes>"
      ]
     },
     "metadata": {
      "needs_background": "light"
     },
     "output_type": "display_data"
    }
   ],
   "source": [
    "df = pd.read_csv(\"C:\\\\Users\\\\n\\\\Downloads\\\\customer_segments.csv\")\n",
    "label=pd.Categorical(df.Segmentation,categories=['A','B','C','D']).codes\n",
    "df.drop(['Segmentation'],axis=1,inplace=True)\n",
    "label\n",
    "sns.countplot(df.Gender,hue=label,palette='Dark2')\n",
    "plt.show()"
   ]
  },
  {
   "cell_type": "code",
   "execution_count": 38,
   "id": "cca10074",
   "metadata": {},
   "outputs": [
    {
     "name": "stderr",
     "output_type": "stream",
     "text": [
      "C:\\Users\\n\\anaconda3\\lib\\site-packages\\seaborn\\_decorators.py:36: FutureWarning: Pass the following variable as a keyword arg: x. From version 0.12, the only valid positional argument will be `data`, and passing other arguments without an explicit keyword will result in an error or misinterpretation.\n",
      "  warnings.warn(\n"
     ]
    },
    {
     "data": {
      "text/plain": [
       "<AxesSubplot:xlabel='Ever_Married', ylabel='count'>"
      ]
     },
     "execution_count": 38,
     "metadata": {},
     "output_type": "execute_result"
    },
    {
     "data": {
      "image/png": "[encoded data removed]",
      "text/plain": [
       "<Figure size 432x288 with 1 Axes>"
      ]
     },
     "metadata": {
      "needs_background": "light"
     },
     "output_type": "display_data"
    }
   ],
   "source": [
    "sns.countplot(df.Ever_Married,hue=label,palette='PuBuGn')"
   ]
  },
  {
   "cell_type": "code",
   "execution_count": 39,
   "id": "1917cff7",
   "metadata": {},
   "outputs": [
    {
     "name": "stderr",
     "output_type": "stream",
     "text": [
      "C:\\Users\\n\\anaconda3\\lib\\site-packages\\seaborn\\_decorators.py:36: FutureWarning: Pass the following variable as a keyword arg: x. From version 0.12, the only valid positional argument will be `data`, and passing other arguments without an explicit keyword will result in an error or misinterpretation.\n",
      "  warnings.warn(\n"
     ]
    },
    {
     "data": {
      "text/plain": [
       "<AxesSubplot:xlabel='Profession', ylabel='count'>"
      ]
     },
     "execution_count": 39,
     "metadata": {},
     "output_type": "execute_result"
    },
    {
     "data": {
      "image/png": "[encoded data removed]",
      "text/plain": [
       "<Figure size 1440x1080 with 1 Axes>"
      ]
     },
     "metadata": {
      "needs_background": "light"
     },
     "output_type": "display_data"
    }
   ],
   "source": [
    "plt.figure(figsize=(20,15))\n",
    "sns.countplot(df.Profession,hue=label,palette='twilight_r')"
   ]
  },
  {
   "cell_type": "code",
   "execution_count": 40,
   "id": "c8ebbad6",
   "metadata": {},
   "outputs": [
    {
     "name": "stderr",
     "output_type": "stream",
     "text": [
      "C:\\Users\\n\\anaconda3\\lib\\site-packages\\seaborn\\_decorators.py:36: FutureWarning: Pass the following variable as a keyword arg: x. From version 0.12, the only valid positional argument will be `data`, and passing other arguments without an explicit keyword will result in an error or misinterpretation.\n",
      "  warnings.warn(\n"
     ]
    },
    {
     "data": {
      "text/plain": [
       "<AxesSubplot:xlabel='Spending_Score', ylabel='count'>"
      ]
     },
     "execution_count": 40,
     "metadata": {},
     "output_type": "execute_result"
    },
    {
     "data": {
      "image/png": "[encoded data removed]",
      "text/plain": [
       "<Figure size 432x288 with 1 Axes>"
      ]
     },
     "metadata": {
      "needs_background": "light"
     },
     "output_type": "display_data"
    }
   ],
   "source": [
    "sns.countplot(df.Spending_Score,hue=label)"
   ]
  },
  {
   "cell_type": "code",
   "execution_count": 43,
   "id": "12cbf51a",
   "metadata": {},
   "outputs": [
    {
     "data": {
      "text/plain": [
       "<AxesSubplot:>"
      ]
     },
     "execution_count": 43,
     "metadata": {},
     "output_type": "execute_result"
    },
    {
     "data": {
      "image/png": "[encoded data removed]",
      "text/plain": [
       "<Figure size 1080x720 with 2 Axes>"
      ]
     },
     "metadata": {
      "needs_background": "light"
     },
     "output_type": "display_data"
    }
   ],
   "source": [
    "\n",
    "correlation_data=pd.DataFrame(label,columns=['label'])\n",
    "correlation_data=correlation_data.join(df)\n",
    "correlation_data\n",
    "plt.figure(figsize=(15,10))\n",
    "sns.heatmap(correlation_data.corr(),annot=True)"
   ]
  },
  {
   "cell_type": "code",
   "execution_count": 44,
   "id": "d33f6d82",
   "metadata": {},
   "outputs": [
    {
     "data": {
      "image/png": "[encoded data removed]",
      "text/plain": [
       "<Figure size 432x288 with 1 Axes>"
      ]
     },
     "metadata": {
      "needs_background": "light"
     },
     "output_type": "display_data"
    },
    {
     "name": "stderr",
     "output_type": "stream",
     "text": [
      "C:\\Users\\n\\anaconda3\\lib\\site-packages\\statsmodels\\graphics\\tsaplots.py:348: FutureWarning: The default method 'yw' can produce PACF values outside of the [-1,1] interval. After 0.13, the default will change tounadjusted Yule-Walker ('ywm'). You can use this method now by setting method='ywm'.\n",
      "  warnings.warn(\n"
     ]
    },
    {
     "data": {
      "image/png": "[encoded data removed]",
      "text/plain": [
       "<Figure size 432x288 with 1 Axes>"
      ]
     },
     "metadata": {
      "needs_background": "light"
     },
     "output_type": "display_data"
    }
   ],
   "source": [
    "from statsmodels.graphics.tsaplots import plot_acf, plot_pacf\n",
    "\n",
    "plot_acf(df['Age'], lags=50)\n",
    "plt.show()\n",
    "\n",
    "plot_pacf(df['Age'], lags=50)\n",
    "plt.show()\n"
   ]
  },
  {
   "cell_type": "code",
   "execution_count": 45,
   "id": "9e17a482",
   "metadata": {},
   "outputs": [
    {
     "name": "stdout",
     "output_type": "stream",
     "text": [
      "          ID  Gender Ever_Married  Age Graduated  Profession  Work_Experience  \\\n",
      "6454  467965  Female           No   37       Yes  Healthcare              1.0   \n",
      "6455  465840  Female           No   42        No      Artist              0.0   \n",
      "6456  465689    Male           No   22        No  Healthcare              9.0   \n",
      "6457  462982    Male          Yes   41        No      Doctor              2.0   \n",
      "6458  464262    Male          Yes   75        No   Executive              0.0   \n",
      "...      ...     ...          ...  ...       ...         ...              ...   \n",
      "8063  464018    Male           No   22        No         NaN              0.0   \n",
      "8064  464685    Male           No   35        No   Executive              3.0   \n",
      "8065  465406  Female           No   33       Yes  Healthcare              1.0   \n",
      "8066  467299  Female           No   27       Yes  Healthcare              1.0   \n",
      "8067  461879    Male          Yes   37       Yes   Executive              0.0   \n",
      "\n",
      "     Spending_Score  Family_Size  Var_1  \n",
      "6454            Low          2.0  Cat_6  \n",
      "6455            Low          1.0  Cat_5  \n",
      "6456            Low          4.0  Cat_3  \n",
      "6457        Average          4.0  Cat_6  \n",
      "6458            Low          1.0  Cat_6  \n",
      "...             ...          ...    ...  \n",
      "8063            Low          7.0  Cat_1  \n",
      "8064            Low          4.0  Cat_4  \n",
      "8065            Low          1.0  Cat_6  \n",
      "8066            Low          4.0  Cat_6  \n",
      "8067        Average          3.0  Cat_4  \n",
      "\n",
      "[1614 rows x 10 columns]\n"
     ]
    }
   ],
   "source": [
    "train_size = int(len(df) * 0.8)\n",
    "train = df[:train_size]\n",
    "test = df[train_size:]\n",
    "print(test)"
   ]
  },
  {
   "cell_type": "code",
   "execution_count": null,
   "id": "f8b01c14",
   "metadata": {},
   "outputs": [],
   "source": [
    "!pip install fbprophet"
   ]
  },
  {
   "cell_type": "code",
   "execution_count": null,
   "id": "5c9ae216",
   "metadata": {},
   "outputs": [],
   "source": [
    "# Import libraries for time series modeling\n",
    "from statsmodels.tsa.arima_model import ARIMA\n",
    "from statsmodels.tsa.statespace.sarimax import SARIMAX\n",
    "from fbprophet import Prophet\n",
    "from statsmodels.tsa.holtwinters import ExponentialSmoothing\n",
    "\n",
    "# Define function to calculate RMSE and MAPE\n",
    "def evaluate_forecast(y_true, y_pred):\n",
    "    rmse = np.sqrt(mean_squared_error(y_true, y_pred))\n",
    "    mape = np.mean(np.abs((y_true - y_pred) / y_true)) * 100\n",
    "    return rmse, mape\n",
    "\n",
    "# Fit and evaluate ARIMA model\n",
    "model = ARIMA(train, order=(1, 1, 1))\n",
    "model_fit = model.fit(disp=0)\n",
    "predictions = model_fit.predict(start=len(train), end=len(df)-1, dynamic=False)\n",
    "rmse, mape = evaluate_forecast(test, predictions)\n",
    "print('ARIMA - RMSE: %.2f, MAPE: %.2f' % (rmse, mape))\n",
    "\n",
    "# Fit and evaluate SARIMA model\n",
    "model = SARIMAX(train, order=(1, 1, 1), seasonal_order=(1, 1, 1, 12))\n",
    "model_fit = model.fit(disp=0)\n",
    "predictions = model_fit.predict(start=len(train), end=len(df)-1, dynamic=False)\n",
    "rmse, mape = evaluate_forecast(test, predictions)\n",
    "print('SARIMA - RMSE: %.2f, MAPE: %.2f' % (rmse, mape))\n",
    "\n",
    "# Fit and evaluate Prophet model\n",
    "model = Prophet()\n",
    "model.fit(train.reset_index().rename(columns={'Date':'ds', 'Sales':'y'}))\n",
    "future = model.make_future_dataframe(periods=len(test))\n",
    "predictions = model.predict(future)['yhat'][len(train):]\n",
    "rmse, mape = evaluate_forecast(test, predictions)\n",
    "print('Prophet - RMSE: %.2f, MAPE: %.2f' % (rmse, mape))\n",
    "\n",
    "# Fit and evaluate ETS model\n",
    "model = ExponentialSmoothing(train, trend='add', seasonal='add', seasonal_periods=12)\n",
    "model_fit = model.fit()\n",
    "predictions = model_fit.predict(start=len(train), end=len(df)-1)\n",
    "rmse, mape = evaluate_forecast(test, predictions)\n",
    "print('ETS - RMSE: %.2f, MAPE: %.2f' % (rmse, mape))"
   ]
  },
  {
   "cell_type": "markdown",
   "id": "bf3dc057",
   "metadata": {},
   "source": [
    "# Evaluating the performance of our ARIMA model:"
   ]
  },
  {
   "cell_type": "code",
   "execution_count": null,
   "id": "287ebca0",
   "metadata": {},
   "outputs": [],
   "source": [
    "# Make predictions\n",
    "arima_pred = arima_model.predict(start=test.index[0], end=test.index[-1], dynamic=False)\n",
    "\n",
    "# Compute RMSE and MAPE\n",
    "arima_rmse = np.sqrt(mean_squared_error(test['Revenue'], arima_pred))\n",
    "arima_mape = np.mean(np.abs((test['Revenue'] - arima_pred) / test['Revenue'])) * 100\n",
    "\n",
    "print('ARIMA model performance:')\n",
    "print('RMSE =', arima_rmse)\n",
    "print('MAPE =', arima_mape)\n"
   ]
  },
  {
   "cell_type": "markdown",
   "id": "d70d2c88",
   "metadata": {},
   "source": [
    "# Evaluate the performance of our SARIMA model:"
   ]
  },
  {
   "cell_type": "code",
   "execution_count": null,
   "id": "1623d716",
   "metadata": {},
   "outputs": [],
   "source": [
    "# Make predictions\n",
    "sarima_pred = sarima_model.predict(start=test.index[0], end=test.index[-1], dynamic=False)\n",
    "\n",
    "# Compute RMSE and MAPE\n",
    "sarima_rmse = np.sqrt(mean_squared_error(test['Revenue'], sarima_pred))\n",
    "sarima_mape = np.mean(np.abs((test['Revenue'] - sarima_pred) / test['Revenue'])) * 100\n",
    "\n",
    "print('SARIMA model performance:')\n",
    "print('RMSE =', sarima_rmse)\n",
    "print('MAPE =', sarima_mape)\n"
   ]
  },
  {
   "cell_type": "markdown",
   "id": "f413c6b3",
   "metadata": {},
   "source": [
    "# THE END"
   ]
  }
 ],
 "metadata": {
  "kernelspec": {
   "display_name": "Python 3 (ipykernel)",
   "language": "python",
   "name": "python3"
  },
  "language_info": {
   "codemirror_mode": {
    "name": "ipython",
    "version": 3
   },
   "file_extension": ".py",
   "mimetype": "text/x-python",
   "name": "python",
   "nbconvert_exporter": "python",
   "pygments_lexer": "ipython3",
   "version": "3.9.12"
  }
 },
 "nbformat": 4,
 "nbformat_minor": 5
}
